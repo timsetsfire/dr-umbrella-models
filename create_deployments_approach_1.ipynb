{
 "cells": [
  {
   "cell_type": "code",
   "execution_count": 3,
   "id": "8e784040-a1b2-4127-ac1c-16ba3e0b66b3",
   "metadata": {
    "collapsed": true,
    "datarobot": {
     "disable_run": false,
     "execution_time_millis": 2502,
     "hide_code": false,
     "hide_results": false,
     "language": "python"
    },
    "jupyter": {
     "outputs_hidden": false,
     "source_hidden": false
    },
    "name": "Create Models",
    "scrolled": "auto"
   },
   "outputs": [],
   "source": [
    "from sklearn.linear_model import QuantileRegressor\n",
    "import numpy as np \n",
    "import pandas as pd \n",
    "import category_encoders.ordinal\n",
    "import numpy\n",
    "import pandas\n",
    "import sklearn\n",
    "import sklearn.impute\n",
    "import xgboost\n",
    "from sklearn.pipeline import Pipeline\n",
    "from sklearn.compose import ColumnTransformer, make_column_selector\n",
    "\n",
    "df = pd.read_csv(\"./data/training_data.csv\")\n",
    "X = df.drop([\"charges\"], axis=1)\n",
    "y = df[\"charges\"]\n",
    "\n",
    "quantiles = np.linspace(0.05, 0.95, 19)\n",
    "quantiles = [np.round(x,3) for x in quantiles]\n",
    "models = {}\n",
    "for quantile in quantiles:\n",
    "    preprocessor = ColumnTransformer([\n",
    "    (\"CAT_ORDCAT2_1\", Pipeline([(\"ORDCAT2_1\", category_encoders.ordinal.OrdinalEncoder())]), make_column_selector(dtype_include='category')),\n",
    "    (\"NUM_PNI2_2\", Pipeline([(\"PNI2_2\", sklearn.impute.SimpleImputer(strategy='median'))]), make_column_selector(dtype_include=numpy.number)),\n",
    "    ])\n",
    "\n",
    "    estimator = Pipeline([(\"preprocessor\", preprocessor), (f\"quantile_{quantile}\", QuantileRegressor(quantile=quantile, alpha=0))])\n",
    "    estimator.fit(X, y)\n",
    "    models[quantile] = {\"model\": estimator}"
   ]
  },
  {
   "cell_type": "code",
   "execution_count": 4,
   "id": "da131dee-3c1e-41b5-8700-fde7f1839980",
   "metadata": {
    "collapsed": false,
    "datarobot": {
     "chart_settings": null,
     "custom_llm_metric_settings": null,
     "custom_metric_settings": null,
     "dataframe_view_options": null,
     "disable_run": false,
     "execution_time_millis": 17,
     "hide_code": false,
     "hide_results": false,
     "language": "python"
    },
    "jupyter": {
     "outputs_hidden": false,
     "source_hidden": false
    },
    "name": "Write models and requirements to disk",
    "scrolled": false
   },
   "outputs": [],
   "source": [
    "from pathlib import Path \n",
    "import pickle\n",
    "for quantile, model in models.items():\n",
    "    folder = Path(f\"./models/quantile-{quantile}\")\n",
    "    folder.mkdir(exist_ok=True, parents = True)\n",
    "    with open(str(folder.absolute() / \"model.pkl\"), \"wb\") as f:\n",
    "        pickle.dump(model[\"model\"], f)\n",
    "    with open(str(folder.absolute() / \"requirements.txt\"), \"w\") as f:\n",
    "        f.write(\"category_encoders==2.6.0\\n\")\n",
    "        f.write(\"scikit-learn==1.6.1\")\n",
    "    \n",
    "    "
   ]
  },
  {
   "cell_type": "code",
   "execution_count": 1,
   "id": "44b00c5a-eb51-4f95-b347-c78be19ad0d1",
   "metadata": {
    "collapsed": false,
    "datarobot": {
     "chart_settings": null,
     "custom_llm_metric_settings": null,
     "custom_metric_settings": null,
     "dataframe_view_options": null,
     "disable_run": false,
     "execution_time_millis": 773,
     "hide_code": false,
     "hide_results": false,
     "language": "python"
    },
    "jupyter": {
     "outputs_hidden": false,
     "source_hidden": false
    },
    "scrolled": false
   },
   "outputs": [],
   "source": [
    "import datarobot as dr \n",
    "client = dr.Client()"
   ]
  },
  {
   "cell_type": "code",
   "execution_count": 26,
   "id": "d9d6a021-04ea-4fb0-a993-0792d679b042",
   "metadata": {
    "collapsed": false,
    "datarobot": {
     "chart_settings": null,
     "custom_llm_metric_settings": null,
     "custom_metric_settings": null,
     "dataframe_view_options": null,
     "disable_run": false,
     "execution_time_millis": 3865,
     "hide_code": false,
     "hide_results": false,
     "language": "python"
    },
    "jupyter": {
     "outputs_hidden": false,
     "source_hidden": false
    },
    "scrolled": false
   },
   "outputs": [
    {
     "data": {
      "text/plain": [
       "PredictionEnvironment('668401df486fcb136bf056d1', 'DataRobot Serverless Predictions', 'datarobotServerless', 'DataRobot Serverless Predictions')"
      ]
     },
     "execution_count": 26,
     "metadata": {},
     "output_type": "execute_result"
    }
   ],
   "source": [
    "# training_data = dr.Dataset.create_from_file(\"/home/notebooks/storage/custom-model-simple/training_data.csv\")\n",
    "training_data = dr.Dataset.get(\"67bf7d05ad1d7cda48cc2453\")\n",
    "# cm_test_data = dr.Dataset.create_from_file(\"/home/notebooks/storage/custom-model-simple/test_data.csv\")\n",
    "cm_test_data = dr.Dataset.get(\"67bf4791518c626964cc2087\")\n",
    "environment = dr.ExecutionEnvironment.list(\"scikit\").pop()\n",
    "prediction_environment = [ pe for pe in dr.PredictionEnvironment.list() if pe.platform == \"datarobotServerless\"]\n",
    "prediction_environment = prediction_environment[2]\n",
    "prediction_environment"
   ]
  },
  {
   "cell_type": "code",
   "execution_count": 0,
   "id": "b040d3f1-e7be-4346-93c1-73fba5dff50f",
   "metadata": {
    "collapsed": false,
    "datarobot": {
     "chart_settings": null,
     "custom_llm_metric_settings": null,
     "custom_metric_settings": null,
     "dataframe_view_options": null,
     "disable_run": false,
     "execution_time_millis": null,
     "hide_code": false,
     "hide_results": false,
     "language": "python"
    },
    "jupyter": {
     "outputs_hidden": false,
     "source_hidden": false
    },
    "scrolled": false
   },
   "outputs": [],
   "source": []
  },
  {
   "cell_type": "code",
   "execution_count": 10,
   "id": "7c4188a7-f564-4a3b-88f5-cc749d62879d",
   "metadata": {
    "collapsed": false,
    "datarobot": {
     "chart_settings": null,
     "custom_llm_metric_settings": null,
     "custom_metric_settings": null,
     "dataframe_view_options": null,
     "disable_run": false,
     "execution_time_millis": 9,
     "hide_code": false,
     "hide_results": false,
     "language": "python"
    },
    "jupyter": {
     "outputs_hidden": false,
     "source_hidden": false
    },
    "scrolled": false
   },
   "outputs": [],
   "source": [
    "\n",
    "import time\n",
    "from pathlib import Path \n",
    "import pickle\n",
    "import requests\n",
    "\n",
    "def create_custom_model(name, artifact_folder, training_dataset_id, environment_id ):\n",
    "    cm = dr.CustomInferenceModel.create(\n",
    "        name, \n",
    "        target_name=\"charges\",\n",
    "        target_type= dr.enums.TARGET_TYPE.REGRESSION)\n",
    "    cmv = dr.CustomModelVersion.create_clean(cm.id, \n",
    "                                            base_environment_id = environment_id,\n",
    "                                            folder_path = artifact_folder, \n",
    "                                            # training_dataset_id=training_dataset_id\n",
    "                                            )\n",
    "    return cm, cmv\n",
    "\n",
    "def build_custom_model_environment(cm, cmv):\n",
    "    url = f\"customModels/{cm.id}/versions/{cmv.id}/dependencyBuild/\"\n",
    "    build_req = client.post(url)\n",
    "    build_info = dr.CustomModelVersionDependencyBuild.get_build_info(cm.id, cmv.id)\n",
    "    # build = dr.CustomModelVersionDependencyBuild.start_build(cm.id, cmv.id, max_wait = 1200)\n",
    "    return cm, cmv, build_info\n",
    "\n",
    "def test_custom_model(cm, cmv, test_dataset_id):\n",
    "    custom_model_test = dr.CustomModelTest.create(\n",
    "        cm.id, \n",
    "        cmv.id, \n",
    "        dataset_id = testing_dataset_id, \n",
    "        network_egress_policy = dr.enums.NETWORK_EGRESS_POLICY.PUBLIC) \n",
    "    return cm, cmv\n",
    "    \n",
    "def register_custom_model(cm, cmv):\n",
    "    registered_model_version = dr.RegisteredModelVersion.create_for_custom_model_version(\n",
    "        custom_model_version_id =  cmv.id, \n",
    "        name = cm.name, \n",
    "        registered_model_name=  cm.name,\n",
    "        description = cm.name,\n",
    "    )\n",
    "    return registered_model_version\n",
    "\n",
    "def create_deployment(registered_model_version, prediction_environment_id):\n",
    "    deployment = dr.Deployment.create_from_registered_model_version(\n",
    "        registered_model_version.id,\n",
    "        prediction_environment_id=prediction_environment_id,\n",
    "        label = registered_model_version.name,\n",
    "    )\n",
    "    deployment.update_association_id_settings([\"ASSOCIATION_ID\"], required_in_prediction_requests=False)\n",
    "    # deployment.update_drift_tracking_settings(target_drift_enabled=True, feature_drift_enabled=True)\n",
    "    return deployment\n",
    "\n",
    "def update_deployment_settings(deployment):\n",
    "    deployment.update_association_id_settings([\"ASSOCIATION_ID\"], required_in_prediction_requests=False)\n",
    "    deployment.update_drift_tracking_settings(target_drift_enabled=True, feature_drift_enabled=False)\n"
   ]
  },
  {
   "cell_type": "code",
   "execution_count": 27,
   "id": "f4f6818d-3d99-49dc-b360-7fb9ef61b6ec",
   "metadata": {
    "collapsed": false,
    "datarobot": {
     "chart_settings": null,
     "custom_llm_metric_settings": null,
     "custom_metric_settings": null,
     "dataframe_view_options": null,
     "disable_run": false,
     "execution_time_millis": 38557,
     "hide_code": false,
     "hide_results": false,
     "language": "python"
    },
    "jupyter": {
     "outputs_hidden": false,
     "source_hidden": false
    },
    "scrolled": false
   },
   "outputs": [],
   "source": [
    "custom_models= []\n",
    "for quantile, model in models.items():\n",
    "    name = f\"quantile-{quantile}\"\n",
    "    folder = Path(f\"./models/quantile-{quantile}\")\n",
    "    cm_task = create_custom_model(name, folder,  training_data.id, environment.id)\n",
    "    custom_models.append(cm_task)"
   ]
  },
  {
   "cell_type": "code",
   "execution_count": 32,
   "id": "07b88f89-f2a5-403e-80a9-ff6d34ff18e8",
   "metadata": {
    "collapsed": false,
    "datarobot": {
     "chart_settings": null,
     "custom_llm_metric_settings": null,
     "custom_metric_settings": null,
     "dataframe_view_options": null,
     "disable_run": false,
     "execution_time_millis": 5,
     "hide_code": false,
     "hide_results": false,
     "language": "python"
    },
    "jupyter": {
     "outputs_hidden": false,
     "source_hidden": false
    },
    "scrolled": false
   },
   "outputs": [
    {
     "data": {
      "text/plain": [
       "'submitted'"
      ]
     },
     "execution_count": 32,
     "metadata": {},
     "output_type": "execute_result"
    }
   ],
   "source": [
    "build[2].build_status"
   ]
  },
  {
   "cell_type": "code",
   "execution_count": 47,
   "id": "e2c24cf2-8b76-44b1-ace4-ff97ff98914d",
   "metadata": {
    "collapsed": false,
    "datarobot": {
     "chart_settings": null,
     "custom_llm_metric_settings": null,
     "custom_metric_settings": null,
     "dataframe_view_options": null,
     "disable_run": false,
     "execution_time_millis": 4,
     "hide_code": false,
     "hide_results": false,
     "language": "python"
    },
    "jupyter": {
     "outputs_hidden": false,
     "source_hidden": false
    },
    "scrolled": false
   },
   "outputs": [],
   "source": [
    "builds = [build_custom_model_environment(cm, cmv) for cm, cmv in custom_models]\n",
    "for build in builds:\n",
    "    while build[2].build_status == \"submitted\":\n",
    "        build[2].refresh()\n",
    "    while build[2].build_status == \"processing\":\n",
    "        build[2].refresh()\n",
    "    if build[2].build_status != \"success\":\n",
    "        print(build)"
   ]
  },
  {
   "cell_type": "code",
   "execution_count": 20,
   "id": "a001c5e6-30fa-4d91-95b5-4ec9fe1e25dc",
   "metadata": {
    "collapsed": false,
    "datarobot": {
     "chart_settings": null,
     "custom_llm_metric_settings": null,
     "custom_metric_settings": null,
     "dataframe_view_options": null,
     "disable_run": false,
     "execution_time_millis": 3,
     "hide_code": false,
     "hide_results": false,
     "language": "python"
    },
    "jupyter": {
     "outputs_hidden": false,
     "source_hidden": false
    },
    "scrolled": false
   },
   "outputs": [],
   "source": [
    "custom_models = [(cm, cm.latest_version) for cm in custom_models]"
   ]
  },
  {
   "cell_type": "code",
   "execution_count": 26,
   "id": "5490592e-8fd5-4b7e-85d7-036d6c034175",
   "metadata": {
    "collapsed": false,
    "datarobot": {
     "chart_settings": null,
     "custom_llm_metric_settings": null,
     "custom_metric_settings": null,
     "dataframe_view_options": null,
     "disable_run": false,
     "execution_time_millis": 20139,
     "hide_code": false,
     "hide_results": false,
     "language": "python"
    },
    "jupyter": {
     "outputs_hidden": false,
     "source_hidden": false
    },
    "scrolled": false
   },
   "outputs": [
    {
     "name": "stdout",
     "output_type": "stream",
     "text": [
      "registering custom model CustomModelVersion('v1.0')\n",
      "registering custom model CustomModelVersion('v1.0')\n",
      "registering custom model CustomModelVersion('v1.0')\n",
      "registering custom model CustomModelVersion('v1.0')\n",
      "registering custom model CustomModelVersion('v1.0')\n",
      "registering custom model CustomModelVersion('v1.0')\n",
      "registering custom model CustomModelVersion('v1.0')\n",
      "registering custom model CustomModelVersion('v1.0')\n",
      "registering custom model CustomModelVersion('v1.0')\n"
     ]
    }
   ],
   "source": [
    "registered_models = [register_custom_model(cm, cmv) for cm, cmv in custom_models]\n",
    "    "
   ]
  },
  {
   "cell_type": "code",
   "execution_count": 0,
   "id": "c52cde82-58f6-45b3-b573-b1ede6616b42",
   "metadata": {
    "collapsed": false,
    "datarobot": {
     "chart_settings": null,
     "custom_llm_metric_settings": null,
     "custom_metric_settings": null,
     "dataframe_view_options": null,
     "disable_run": false,
     "execution_time_millis": null,
     "hide_code": false,
     "hide_results": false,
     "language": "python"
    },
    "jupyter": {
     "outputs_hidden": false,
     "source_hidden": false
    },
    "scrolled": false
   },
   "outputs": [],
   "source": [
    "[cm.delete() for cm, cmv in custom_models]"
   ]
  },
  {
   "cell_type": "code",
   "execution_count": 27,
   "id": "5c5ea0b4-450a-4f77-89ee-57467482924d",
   "metadata": {
    "collapsed": false,
    "datarobot": {
     "chart_settings": null,
     "custom_llm_metric_settings": null,
     "custom_metric_settings": null,
     "dataframe_view_options": null,
     "disable_run": false,
     "execution_time_millis": 45483,
     "hide_code": false,
     "hide_results": false,
     "language": "python"
    },
    "jupyter": {
     "outputs_hidden": false,
     "source_hidden": false
    },
    "scrolled": false
   },
   "outputs": [],
   "source": [
    "# registered_models = [ r for r in dr.RegisteredModel.list() if \"quantile-\" in str(r) ]\n",
    "# registered_models = [r.list_versions()[0] for r in registered_models]"
   ]
  },
  {
   "cell_type": "code",
   "execution_count": 2,
   "id": "023e04fc-f6e4-490a-8a02-19c8690727c6",
   "metadata": {
    "collapsed": false,
    "datarobot": {
     "chart_settings": null,
     "custom_llm_metric_settings": null,
     "custom_metric_settings": null,
     "dataframe_view_options": null,
     "disable_run": false,
     "execution_time_millis": 22463,
     "hide_code": false,
     "hide_results": false,
     "language": "python"
    },
    "jupyter": {
     "outputs_hidden": false,
     "source_hidden": false
    },
    "scrolled": false
   },
   "outputs": [],
   "source": [
    "# import datarobot as dr \n",
    "# deployments = [d for d in dr.Deployment.list() if 'quantile-0' in str(d)]"
   ]
  },
  {
   "cell_type": "code",
   "execution_count": 43,
   "id": "f3f588fc-38b1-4a6a-9009-b6222fc5f709",
   "metadata": {
    "collapsed": false,
    "datarobot": {
     "chart_settings": null,
     "custom_llm_metric_settings": null,
     "custom_metric_settings": null,
     "dataframe_view_options": null,
     "disable_run": false,
     "execution_time_millis": 3073564,
     "hide_code": false,
     "hide_results": false,
     "language": "python"
    },
    "jupyter": {
     "outputs_hidden": false,
     "source_hidden": false
    },
    "scrolled": false
   },
   "outputs": [
    {
     "name": "stdout",
     "output_type": "stream",
     "text": [
      "creating deployment quantile-0.05\n",
      "creating deployment quantile-0.1\n",
      "creating deployment quantile-0.15\n",
      "creating deployment quantile-0.2\n",
      "creating deployment quantile-0.25\n",
      "creating deployment quantile-0.3\n",
      "creating deployment quantile-0.35\n",
      "creating deployment quantile-0.4\n",
      "creating deployment quantile-0.45\n",
      "creating deployment quantile-0.5\n",
      "creating deployment quantile-0.55\n",
      "creating deployment quantile-0.6\n",
      "creating deployment quantile-0.65\n",
      "creating deployment quantile-0.7\n",
      "creating deployment quantile-0.75\n",
      "creating deployment quantile-0.8\n",
      "creating deployment quantile-0.85\n",
      "creating deployment quantile-0.9\n",
      "creating deployment quantile-0.95\n"
     ]
    }
   ],
   "source": [
    "deployments = [ create_deployment(r, prediction_environment.id) for r in registered_models]"
   ]
  },
  {
   "cell_type": "code",
   "execution_count": 0,
   "id": "e0644a96-552b-4704-9aa2-343ae11f976c",
   "metadata": {
    "collapsed": false,
    "datarobot": {
     "chart_settings": null,
     "custom_llm_metric_settings": null,
     "custom_metric_settings": null,
     "dataframe_view_options": null,
     "disable_run": false,
     "execution_time_millis": null,
     "hide_code": false,
     "hide_results": false,
     "language": "python"
    },
    "jupyter": {
     "outputs_hidden": false,
     "source_hidden": false
    },
    "scrolled": false
   },
   "outputs": [],
   "source": [
    "[update_deployment_settings(d) for d in deployments]"
   ]
  },
  {
   "cell_type": "code",
   "execution_count": null,
   "id": "c3a69893",
   "metadata": {},
   "outputs": [],
   "source": [
    "import yaml \n",
    "routing_conf = []\n",
    "for deployment in deployments:\n",
    "    data = dict(\n",
    "        deployment_id = deployment.id \n",
    "        model_id = deployment.model[\"id\"]\n",
    "        tag = deployment.label, \n",
    "        target_type = \"Regression\", \n",
    "        url = f\"https://app.datarobot.com/api/v2/deployments/{deployment.id}/predictions\"\n",
    "    )\n",
    "    routing_conf.append(data)\n",
    "with open(\"./models/master-model/routing_config.yaml\", \"w\") as f:\n",
    "    f.write(yaml.dump(routing_conf))"
   ]
  },
  {
   "attachments": {},
   "cell_type": "markdown",
   "id": "592f6a5e-a9a6-402d-80db-1e9d0b71b85e",
   "metadata": {
    "collapsed": false,
    "datarobot": {
     "chart_settings": null,
     "custom_llm_metric_settings": null,
     "custom_metric_settings": null,
     "dataframe_view_options": null,
     "disable_run": false,
     "execution_time_millis": null,
     "hide_code": false,
     "hide_results": false,
     "language": "markdown"
    },
    "jupyter": {
     "outputs_hidden": false,
     "source_hidden": false
    },
    "scrolled": false
   },
   "source": [
    "## Deploy umbrella model"
   ]
  },
  {
   "cell_type": "code",
   "execution_count": 18,
   "id": "af415d27-687f-40e0-80d9-6ad8821af6d8",
   "metadata": {
    "collapsed": false,
    "datarobot": {
     "chart_settings": null,
     "custom_llm_metric_settings": null,
     "custom_metric_settings": null,
     "dataframe_view_options": null,
     "disable_run": false,
     "execution_time_millis": 2038,
     "hide_code": false,
     "hide_results": false,
     "language": "python"
    },
    "jupyter": {
     "outputs_hidden": false,
     "source_hidden": false
    },
    "scrolled": false
   },
   "outputs": [
    {
     "data": {
      "text/plain": [
       "PredictionEnvironment('668401df486fcb136bf056d1', 'DataRobot Serverless Predictions', 'datarobotServerless', 'DataRobot Serverless Predictions')"
      ]
     },
     "execution_count": 18,
     "metadata": {},
     "output_type": "execute_result"
    }
   ],
   "source": [
    "environment = dr.ExecutionEnvironment.list(\"scikit\").pop()\n",
    "prediction_environment = [ pe for pe in dr.PredictionEnvironment.list() if pe.platform == \"datarobotServerless\"]\n",
    "prediction_environment = prediction_environment[2]\n",
    "prediction_environment"
   ]
  },
  {
   "cell_type": "code",
   "execution_count": 27,
   "id": "d56cd9ef-f765-48ab-9deb-011428b177ab",
   "metadata": {
    "collapsed": false,
    "datarobot": {
     "chart_settings": null,
     "custom_llm_metric_settings": null,
     "custom_metric_settings": null,
     "dataframe_view_options": null,
     "disable_run": false,
     "execution_time_millis": 134728,
     "hide_code": false,
     "hide_results": false,
     "language": "python"
    },
    "jupyter": {
     "outputs_hidden": false,
     "source_hidden": false
    },
    "scrolled": false
   },
   "outputs": [
    {
     "name": "stdout",
     "output_type": "stream",
     "text": [
      "version created\n",
      "version registered\n"
     ]
    }
   ],
   "source": [
    "response = client.post(\"customModels\", \n",
    "                       data = {\n",
    "                        \"customModelType\": \"inference\",\n",
    "                        \"isProxyModel\": False,\n",
    "                        \"isUnstructuredModelKind\": True,\n",
    "                        \"name\": 'Rental Calc Umbrella Model v2',\n",
    "                        \"targetName\": \"charges\",\n",
    "                        \"targetType\": \"Regression\",\n",
    "                        }\n",
    "                    )\n",
    "umbrella_custom_model = dr.CustomInferenceModel.get(response.json()[\"id\"])\n",
    "\n",
    "umbrella_custom_model_version = dr.CustomModelVersion.create_clean(umbrella_custom_model.id, \n",
    "                                            base_environment_id = environment.id,\n",
    "                                            folder_path = \"./master-model\",   \n",
    "                                            training_dataset_id=training_data.id\n",
    "                                            )\n",
    "print(\"version created\")\n",
    "build = build_custom_model_environment(umbrella_custom_model, umbrella_custom_model_version)\n",
    "while build[2].build_status == \"submitted\":\n",
    "    build[2].refresh()\n",
    "while build[2].build_status == \"processing\":\n",
    "    build[2].refresh()\n",
    "if build[2].build_status != \"success\":\n",
    "    print(\"build comleted, status:\")\n",
    "    print(build)\n",
    "registered_model_version = register_custom_model(umbrella_custom_model, umbrella_custom_model_version)\n",
    "print(\"version registered\")"
   ]
  },
  {
   "cell_type": "code",
   "execution_count": 29,
   "id": "23bb94a2-0a6d-429f-9480-6cb92a6058b9",
   "metadata": {
    "collapsed": false,
    "datarobot": {
     "chart_settings": null,
     "custom_llm_metric_settings": null,
     "custom_metric_settings": null,
     "dataframe_view_options": null,
     "disable_run": false,
     "execution_time_millis": 268882,
     "hide_code": false,
     "hide_results": false,
     "language": "python"
    },
    "jupyter": {
     "outputs_hidden": false,
     "source_hidden": false
    },
    "scrolled": false
   },
   "outputs": [
    {
     "name": "stdout",
     "output_type": "stream",
     "text": [
      "version deployed\n",
      "feature drift enabled\n"
     ]
    }
   ],
   "source": [
    "deployment = create_deployment(registered_model_version, prediction_environment.id)\n",
    "print(\"version deployed\")\n",
    "deployment.update_association_id_settings([\"ASSOCIATION_ID\"], required_in_prediction_requests=False)\n",
    "deployment.update_drift_tracking_settings(target_drift_enabled=False, feature_drift_enabled=True)\n",
    "print(\"feature drift enabled\")"
   ]
  },
  {
   "cell_type": "code",
   "execution_count": 0,
   "id": "8b176b10-6857-4ebe-a560-22a9a5452f76",
   "metadata": {
    "collapsed": false,
    "datarobot": {
     "chart_settings": null,
     "custom_llm_metric_settings": null,
     "custom_metric_settings": null,
     "dataframe_view_options": null,
     "disable_run": false,
     "execution_time_millis": null,
     "hide_code": false,
     "hide_results": false,
     "language": "python"
    },
    "jupyter": {
     "outputs_hidden": false,
     "source_hidden": false
    },
    "scrolled": false
   },
   "outputs": [],
   "source": [
    "registered_model_version.id"
   ]
  },
  {
   "cell_type": "code",
   "execution_count": 0,
   "id": "5e2726bd-2c6f-4bc1-a503-33df79a3ac04",
   "metadata": {
    "collapsed": false,
    "datarobot": {
     "chart_settings": null,
     "custom_llm_metric_settings": null,
     "custom_metric_settings": null,
     "dataframe_view_options": null,
     "disable_run": false,
     "execution_time_millis": null,
     "hide_code": false,
     "hide_results": false,
     "language": "python"
    },
    "jupyter": {
     "outputs_hidden": false,
     "source_hidden": false
    },
    "scrolled": false
   },
   "outputs": [],
   "source": [
    "deployment.id"
   ]
  }
 ],
 "metadata": {
  "kernelspec": {
   "display_name": "Python 3 (ipykernel)",
   "name": "python3"
  },
  "language_info": {
   "name": "python"
  }
 },
 "nbformat": 4,
 "nbformat_minor": 5
}
