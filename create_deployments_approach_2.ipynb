{
 "cells": [
  {
   "cell_type": "code",
   "execution_count": 18,
   "id": "8e784040-a1b2-4127-ac1c-16ba3e0b66b3",
   "metadata": {
    "collapsed": true,
    "datarobot": {
     "disable_run": false,
     "execution_time_millis": 2502,
     "hide_code": false,
     "hide_results": false,
     "language": "python"
    },
    "jupyter": {
     "outputs_hidden": false,
     "source_hidden": false
    },
    "name": "Create Models",
    "scrolled": "auto"
   },
   "outputs": [],
   "source": [
    "from sklearn.linear_model import QuantileRegressor\n",
    "import numpy as np \n",
    "import pandas as pd \n",
    "import category_encoders.ordinal\n",
    "import numpy\n",
    "import pandas\n",
    "import sklearn\n",
    "import sklearn.impute\n",
    "import xgboost\n",
    "from sklearn.pipeline import Pipeline\n",
    "from sklearn.compose import ColumnTransformer, make_column_selector\n",
    "\n",
    "df = pd.read_csv(\"./data/training_data.csv\")\n",
    "X = df.drop([\"charges\"], axis=1)\n",
    "y = df[\"charges\"]\n",
    "\n",
    "quantiles = np.linspace(0.05, 0.95, 19)\n",
    "quantiles = [np.round(x,3) for x in quantiles]\n",
    "models = {}\n",
    "for quantile in quantiles:\n",
    "    preprocessor = ColumnTransformer([\n",
    "    (\"CAT_ORDCAT2_1\", Pipeline([(\"ORDCAT2_1\", category_encoders.ordinal.OrdinalEncoder())]), make_column_selector(dtype_include='category')),\n",
    "    (\"NUM_PNI2_2\", Pipeline([(\"PNI2_2\", sklearn.impute.SimpleImputer(strategy='median'))]), make_column_selector(dtype_include=numpy.number)),\n",
    "    ])\n",
    "    estimator = Pipeline([(\"preprocessor\", preprocessor), (f\"quantile_{quantile}\", QuantileRegressor(quantile=quantile, alpha=0))])\n",
    "    estimator.fit(X, y)\n",
    "    models[quantile] = {\"model\": estimator}"
   ]
  },
  {
   "cell_type": "code",
   "execution_count": 20,
   "id": "fec4b09d",
   "metadata": {},
   "outputs": [],
   "source": [
    "from pathlib import Path \n",
    "import pickle\n",
    "for quantile, model in models.items():\n",
    "    folder = Path(f\"./models/quantile-{quantile}\")\n",
    "    folder.mkdir(exist_ok=True, parents = True)\n",
    "    with open(str(folder.absolute() / \"model.pkl\"), \"wb\") as f:\n",
    "        pickle.dump(model[\"model\"], f)\n",
    "    with open(str(folder.absolute() / \"requirements.txt\"), \"w\") as f:\n",
    "        f.write(\"category_encoders==2.6.0\\n\")\n",
    "        f.write(\"scikit-learn==1.6.1\")"
   ]
  },
  {
   "cell_type": "code",
   "execution_count": 28,
   "id": "3f37e04a",
   "metadata": {},
   "outputs": [
    {
     "data": {
      "text/plain": [
       "'0.05'"
      ]
     },
     "execution_count": 28,
     "metadata": {},
     "output_type": "execute_result"
    }
   ],
   "source": [
    "str(list(models.items())[0][0])"
   ]
  },
  {
   "cell_type": "code",
   "execution_count": 29,
   "id": "2c38b8ec",
   "metadata": {},
   "outputs": [],
   "source": [
    "import datarobot as dr\n",
    "import requests\n",
    "EXTERNAL_PREDICTION_ENV = '65fb005b00e2ba108b8758d0'\n",
    "url = \"https://app.datarobot.com/api/v2/keyValues/fromFile/\"\n",
    "client = dr.Client() \n",
    "headers = {\n",
    "  'Authorization': f'Bearer {client.token}'\n",
    "}\n",
    "registerd_external_models = []\n",
    "for quantile, model in models.items():\n",
    "    quantile = str(quantile)\n",
    "    ext_reg_model = dr.RegisteredModelVersion.create_for_external(\n",
    "        name = f\"quantile {quantile}\", \n",
    "        target = {\"type\": \"Regression\", \"name\": \"charges\"},\n",
    "        # datasets = {\"trainingDataCatalogId\": \"67bf7d05ad1d7cda48cc2453\"}, \n",
    "        registered_model_name = f\"external quantile {quantile}\",\n",
    "        registered_model_description=f\"quantile {quantile} model that has been packaged with umbrella model\"\n",
    "    )\n",
    "    ## model pkl\n",
    "    payload = dict(entityId = ext_reg_model.id, entityType = \"modelPackage\", category=\"artifact\", valueType = \"pickle\", name = \"model.pkl\")\n",
    "    files=[('file',('model.pkl',open(f'./models/quantile-{quantile}/model.pkl','rb'),'application/octet-stream'))  ]\n",
    "    response = requests.request(\"POST\", url, headers=headers, data=payload, files=files)\n",
    "    ## requirements.txt\n",
    "    payload = dict(entityId = ext_reg_model.id, entityType = \"modelPackage\", category=\"artifact\", valueType = \"binary\", name = \"requirements.txt\")\n",
    "    files=[\n",
    "      ('file',('requirements.txt',open(f'./models/quantile-{quantile}/requirements.txt','rb'),'application/octet-stream'))\n",
    "    ]\n",
    "    response = requests.request(\"POST\", url, headers=headers, data=payload, files=files)\n",
    "    registerd_external_models.append(ext_reg_model)\n"
   ]
  },
  {
   "cell_type": "code",
   "execution_count": 35,
   "id": "e30421db",
   "metadata": {},
   "outputs": [],
   "source": [
    "deployments = []\n",
    "for registerd_external_model in registerd_external_models:\n",
    "    deployment = dr.Deployment.create_from_registered_model_version(\n",
    "        model_package_id = registerd_external_model.id,\n",
    "        label=registerd_external_model.name,\n",
    "        description=f\"external model deployment for {registerd_external_model.name}\",\n",
    "        # default_prediction_server_id=PREDICTION_SERVER.id,\n",
    "        # importance=\"HIGH\",\n",
    "        prediction_environment_id='65f08b280c919297b297039c'\n",
    "    )\n",
    "    deployment.update_drift_tracking_settings(target_drift_enabled=True, feature_drift_enabled=False)\n",
    "    # Enabling Accuracy\n",
    "    deployment.update_association_id_settings(column_names=[\"ASSOCIATION_ID\"], required_in_prediction_requests=False)\n",
    "    # Enabling Challenger\n",
    "    deployment.update_predictions_data_collection_settings(enabled=True)\n",
    "    deployments.append(deployment)\n",
    "\n",
    "\n"
   ]
  },
  {
   "cell_type": "code",
   "execution_count": 38,
   "id": "6e685a00",
   "metadata": {},
   "outputs": [],
   "source": [
    "import yaml \n",
    "routing_conf = []\n",
    "for deployment in deployments:\n",
    "    data = dict(\n",
    "        deployment_id = deployment.id ,\n",
    "        model_id = deployment.model[\"id\"],\n",
    "        tag = deployment.label, \n",
    "        target_type = \"Regression\", \n",
    "        url = f\"https://app.datarobot.com/api/v2/deployments/{deployment.id}/predictions\"\n",
    "    )\n",
    "    routing_conf.append(data)\n",
    "with open(\"models/master-model-v2/routing_config.yaml\", \"w\") as f:\n",
    "    f.write(yaml.dump(routing_conf))"
   ]
  },
  {
   "cell_type": "markdown",
   "id": "d4ad632d",
   "metadata": {},
   "source": [
    "## Deployment of the Umbrella Model"
   ]
  },
  {
   "cell_type": "code",
   "execution_count": null,
   "id": "5eeda1b9",
   "metadata": {},
   "outputs": [],
   "source": [
    "\n",
    "import time\n",
    "from pathlib import Path \n",
    "import pickle\n",
    "import requests\n",
    "\n",
    "def create_custom_model(name, artifact_folder, training_dataset_id, environment_id ):\n",
    "    cm = dr.CustomInferenceModel.create(\n",
    "        name, \n",
    "        target_name=\"charges\",\n",
    "        target_type= dr.enums.TARGET_TYPE.REGRESSION)\n",
    "    cmv = dr.CustomModelVersion.create_clean(cm.id, \n",
    "                                            base_environment_id = environment_id,\n",
    "                                            folder_path = artifact_folder, \n",
    "                                            # training_dataset_id=training_dataset_id\n",
    "                                            )\n",
    "    return cm, cmv\n",
    "\n",
    "def build_custom_model_environment(cm, cmv):\n",
    "    url = f\"customModels/{cm.id}/versions/{cmv.id}/dependencyBuild/\"\n",
    "    build_req = client.post(url)\n",
    "    build_info = dr.CustomModelVersionDependencyBuild.get_build_info(cm.id, cmv.id)\n",
    "    # build = dr.CustomModelVersionDependencyBuild.start_build(cm.id, cmv.id, max_wait = 1200)\n",
    "    return cm, cmv, build_info\n",
    "\n",
    "def test_custom_model(cm, cmv, test_dataset_id):\n",
    "    custom_model_test = dr.CustomModelTest.create(\n",
    "        cm.id, \n",
    "        cmv.id, \n",
    "        dataset_id = testing_dataset_id, \n",
    "        network_egress_policy = dr.enums.NETWORK_EGRESS_POLICY.PUBLIC) \n",
    "    return cm, cmv\n",
    "    \n",
    "def register_custom_model(cm, cmv):\n",
    "    registered_model_version = dr.RegisteredModelVersion.create_for_custom_model_version(\n",
    "        custom_model_version_id =  cmv.id, \n",
    "        name = cm.name, \n",
    "        registered_model_name=  cm.name,\n",
    "        description = cm.name,\n",
    "    )\n",
    "    return registered_model_version\n",
    "\n",
    "def create_deployment(registered_model_version, prediction_environment_id):\n",
    "    deployment = dr.Deployment.create_from_registered_model_version(\n",
    "        registered_model_version.id,\n",
    "        prediction_environment_id=prediction_environment_id,\n",
    "        label = registered_model_version.name,\n",
    "    )\n",
    "    deployment.update_association_id_settings([\"ASSOCIATION_ID\"], required_in_prediction_requests=False)\n",
    "    # deployment.update_drift_tracking_settings(target_drift_enabled=True, feature_drift_enabled=True)\n",
    "    return deployment\n",
    "\n",
    "def update_deployment_settings(deployment):\n",
    "    deployment.update_association_id_settings([\"ASSOCIATION_ID\"], required_in_prediction_requests=False)\n",
    "    deployment.update_drift_tracking_settings(target_drift_enabled=True, feature_drift_enabled=False)\n"
   ]
  },
  {
   "cell_type": "code",
   "execution_count": null,
   "id": "e5989fe9",
   "metadata": {},
   "outputs": [],
   "source": [
    "environment = dr.ExecutionEnvironment.list(\"scikit\").pop()\n",
    "prediction_environment = [ pe for pe in dr.PredictionEnvironment.list() if pe.platform == \"datarobotServerless\"]\n",
    "prediction_environment = prediction_environment[2]\n",
    "prediction_environment"
   ]
  },
  {
   "cell_type": "code",
   "execution_count": null,
   "id": "8b7147de",
   "metadata": {},
   "outputs": [],
   "source": [
    "response = client.post(\"customModels\", \n",
    "                       data = {\n",
    "                        \"customModelType\": \"inference\",\n",
    "                        \"isProxyModel\": False,\n",
    "                        \"isUnstructuredModelKind\": True,\n",
    "                        \"name\": 'Rental Calc Umbrella Model v2',\n",
    "                        \"targetName\": \"charges\",\n",
    "                        \"targetType\": \"Regression\",\n",
    "                        }\n",
    "                    )\n",
    "umbrella_custom_model = dr.CustomInferenceModel.get(response.json()[\"id\"])\n",
    "\n",
    "umbrella_custom_model_version = dr.CustomModelVersion.create_clean(umbrella_custom_model.id, \n",
    "                                            base_environment_id = environment.id,\n",
    "                                            folder_path = \"./master-model\",   \n",
    "                                            training_dataset_id=training_data.id\n",
    "                                            )\n",
    "print(\"version created\")\n",
    "build = build_custom_model_environment(umbrella_custom_model, umbrella_custom_model_version)\n",
    "while build[2].build_status == \"submitted\":\n",
    "    build[2].refresh()\n",
    "while build[2].build_status == \"processing\":\n",
    "    build[2].refresh()\n",
    "if build[2].build_status != \"success\":\n",
    "    print(\"build comleted, status:\")\n",
    "    print(build)\n",
    "registered_model_version = register_custom_model(umbrella_custom_model, umbrella_custom_model_version)\n",
    "print(\"version registered\")\n",
    "deployment = create_deployment(registered_model_version, prediction_environment.id)\n",
    "print(\"version deployed\")\n",
    "deployment.update_association_id_settings([\"ASSOCIATION_ID\"], required_in_prediction_requests=False)\n",
    "deployment.update_drift_tracking_settings(target_drift_enabled=False, feature_drift_enabled=True)\n",
    "print(\"feature drift enabled\")\n"
   ]
  },
  {
   "cell_type": "markdown",
   "id": "313364f9",
   "metadata": {},
   "source": [
    "## tag deployments"
   ]
  },
  {
   "cell_type": "code",
   "execution_count": null,
   "id": "572a3812",
   "metadata": {},
   "outputs": [],
   "source": [
    "MODEL_TAG = \"Rental Calc Umbrella Model V3\""
   ]
  },
  {
   "cell_type": "code",
   "execution_count": null,
   "id": "edbe4245",
   "metadata": {},
   "outputs": [],
   "source": [
    "client.post(f\"deployments/{deployment.id}/tags\", data = {\"name\": \"Umbrella Model\", \"value\": MODEL_TAG})"
   ]
  },
  {
   "cell_type": "code",
   "execution_count": 43,
   "id": "515c1769",
   "metadata": {},
   "outputs": [],
   "source": [
    "with open(\"models/master-model-v2/routing_config.yaml\", \"r\") as f:\n",
    "    model_config = yaml.load(f, Loader = yaml.SafeLoader)"
   ]
  },
  {
   "cell_type": "code",
   "execution_count": null,
   "id": "394d4308",
   "metadata": {},
   "outputs": [
    {
     "name": "stdout",
     "output_type": "stream",
     "text": [
      "409 client error: {'message': 'The name is already in use for this deployment.'}\n"
     ]
    }
   ],
   "source": [
    "for model in model_config:\n",
    "    dep_id = model[\"deployment_id\"]\n",
    "    try:\n",
    "        client.post(f\"deployments/{dep_id}/tags\", data = {\"name\": \"Umbrella Model\", \"value\": MODEL_TAG})\n",
    "    except Exception as e:\n",
    "        print(e)"
   ]
  },
  {
   "cell_type": "code",
   "execution_count": null,
   "id": "c2d74743",
   "metadata": {},
   "outputs": [],
   "source": []
  }
 ],
 "metadata": {
  "kernelspec": {
   "display_name": "sec-bene",
   "language": "python",
   "name": "python3"
  },
  "language_info": {
   "codemirror_mode": {
    "name": "ipython",
    "version": 3
   },
   "file_extension": ".py",
   "mimetype": "text/x-python",
   "name": "python",
   "nbconvert_exporter": "python",
   "pygments_lexer": "ipython3",
   "version": "3.11.8"
  }
 },
 "nbformat": 4,
 "nbformat_minor": 5
}
