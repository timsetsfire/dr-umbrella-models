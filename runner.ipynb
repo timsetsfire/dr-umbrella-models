{
 "cells": [
  {
   "cell_type": "code",
   "execution_count": 1,
   "id": "da8c8113",
   "metadata": {},
   "outputs": [],
   "source": [
    "import sys \n",
    "sys.path.append(\"src\")"
   ]
  },
  {
   "cell_type": "code",
   "execution_count": 2,
   "id": "b8ed216a",
   "metadata": {},
   "outputs": [],
   "source": [
    "APPROACH_1_DEPLOYMENT_ID = \"67c9e6c915cb2e48bbbf1319\"\n",
    "APPROACH_2_DEPLOYMENT_ID = \"67c9de2aac3f545791bf1249\""
   ]
  },
  {
   "cell_type": "code",
   "execution_count": 3,
   "id": "bb25d93a-77ea-45de-9241-0b1ff79ffa37",
   "metadata": {
    "collapsed": true,
    "datarobot": {
     "disable_run": false,
     "execution_time_millis": 575,
     "hide_code": false,
     "hide_results": false,
     "language": "python"
    },
    "jupyter": {
     "outputs_hidden": false,
     "source_hidden": false
    },
    "name": "First cell",
    "scrolled": "auto"
   },
   "outputs": [],
   "source": [
    "from get_data import get_data \n",
    "from preprocess import preprocess\n",
    "from score import score\n",
    "from postprocess import postprocess\n",
    "from write_predictions import write_predictions "
   ]
  },
  {
   "cell_type": "markdown",
   "id": "e7f4a916",
   "metadata": {},
   "source": [
    "## Approach 1\n",
    "\n",
    "Umbrella calls each seach submodel deployed to datarobot"
   ]
  },
  {
   "cell_type": "code",
   "execution_count": 4,
   "id": "1f437b64",
   "metadata": {},
   "outputs": [
    {
     "name": "stdout",
     "output_type": "stream",
     "text": [
      "2025-03-06 13:26:44,832 score.py:91 INFO prediction request status code: 200\n",
      "2025-03-06 13:26:44,835 score.py:135 INFO ==============================\n",
      "2025-03-06 13:26:44,836 score.py:136 INFO number of seconds to complete scoring: 5.832275\n",
      "2025-03-06 13:26:44,836 score.py:137 INFO ==============================\n"
     ]
    },
    {
     "data": {
      "text/plain": [
       "True"
      ]
     },
     "execution_count": 4,
     "metadata": {},
     "output_type": "execute_result"
    }
   ],
   "source": [
    "df = get_data() \n",
    "df = preprocess(df)\n",
    "preds = score(df.drop([\"charges\"], axis=1), APPROACH_1_DEPLOYMENT_ID)\n",
    "preds = postprocess(preds)\n",
    "write_predictions(preds)"
   ]
  },
  {
   "cell_type": "code",
   "execution_count": 5,
   "id": "f5dc4582-7492-4363-a935-eaed68c0f3cf",
   "metadata": {
    "collapsed": false,
    "datarobot": {
     "chart_settings": null,
     "custom_llm_metric_settings": null,
     "custom_metric_settings": null,
     "dataframe_view_options": null,
     "disable_run": false,
     "execution_time_millis": 21,
     "hide_code": false,
     "hide_results": false,
     "language": "python"
    },
    "jupyter": {
     "outputs_hidden": false,
     "source_hidden": false
    },
    "scrolled": false
   },
   "outputs": [
    {
     "name": "stdout",
     "output_type": "stream",
     "text": [
      "quantile-0.55\n"
     ]
    },
    {
     "data": {
      "application/vnd.microsoft.datawrangler.viewer.v0+json": {
       "columns": [
        {
         "name": "index",
         "rawType": "int64",
         "type": "integer"
        },
        {
         "name": "charges_PREDICTION",
         "rawType": "float64",
         "type": "float"
        },
        {
         "name": "DEPLOYMENT_APPROVAL_STATUS",
         "rawType": "object",
         "type": "string"
        },
        {
         "name": "ASSOCIATION_ID",
         "rawType": "object",
         "type": "string"
        }
       ],
       "conversionMethod": "pd.DataFrame",
       "ref": "77e57d21-4b7e-47ef-932b-45f94eea4dd5",
       "rows": [
        [
         "0",
         "1617.8110356487",
         "APPROVED",
         "8b4fa3f0-fab8-11ef-8516-aa34fbca8d66"
        ],
        [
         "1",
         "1728.9982583976",
         "APPROVED",
         "8b4fa4cc-fab8-11ef-8516-aa34fbca8d66"
        ],
        [
         "2",
         "5181.7112508637",
         "APPROVED",
         "8b4fa526-fab8-11ef-8516-aa34fbca8d66"
        ],
        [
         "3",
         "5376.9535859427",
         "APPROVED",
         "8b4fa54e-fab8-11ef-8516-aa34fbca8d66"
        ],
        [
         "4",
         "5102.5247830945",
         "APPROVED",
         "8b4fa562-fab8-11ef-8516-aa34fbca8d66"
        ],
        [
         "5",
         "4837.5950550533",
         "APPROVED",
         "8b4fa580-fab8-11ef-8516-aa34fbca8d66"
        ],
        [
         "6",
         "9237.0245621463",
         "APPROVED",
         "8b4fa5a8-fab8-11ef-8516-aa34fbca8d66"
        ],
        [
         "7",
         "7600.2611958839",
         "APPROVED",
         "8b4fa5da-fab8-11ef-8516-aa34fbca8d66"
        ],
        [
         "8",
         "7212.8248966924",
         "APPROVED",
         "8b4fa602-fab8-11ef-8516-aa34fbca8d66"
        ],
        [
         "9",
         "12613.3146394708",
         "APPROVED",
         "8b4fa620-fab8-11ef-8516-aa34fbca8d66"
        ],
        [
         "10",
         "3228.3149020213",
         "APPROVED",
         "8b4fa634-fab8-11ef-8516-aa34fbca8d66"
        ],
        [
         "11",
         "13149.1193028666",
         "APPROVED",
         "8b4fa648-fab8-11ef-8516-aa34fbca8d66"
        ],
        [
         "12",
         "2683.7097001838",
         "APPROVED",
         "8b4fa666-fab8-11ef-8516-aa34fbca8d66"
        ],
        [
         "13",
         "11526.5312672547",
         "APPROVED",
         "8b4fa67a-fab8-11ef-8516-aa34fbca8d66"
        ],
        [
         "14",
         "3748.3540585447",
         "APPROVED",
         "8b4fa698-fab8-11ef-8516-aa34fbca8d66"
        ],
        [
         "15",
         "2006.481245792",
         "APPROVED",
         "8b4fa6ac-fab8-11ef-8516-aa34fbca8d66"
        ],
        [
         "16",
         "10848.5277944138",
         "APPROVED",
         "8b4fa6c0-fab8-11ef-8516-aa34fbca8d66"
        ],
        [
         "17",
         "2694.4732787762",
         "APPROVED",
         "8b4fa6d4-fab8-11ef-8516-aa34fbca8d66"
        ],
        [
         "18",
         "11526.0417819184",
         "APPROVED",
         "8b4fa6f2-fab8-11ef-8516-aa34fbca8d66"
        ],
        [
         "19",
         "4559.7143608232",
         "APPROVED",
         "8b4fa706-fab8-11ef-8516-aa34fbca8d66"
        ],
        [
         "20",
         "12602.9487677141",
         "APPROVED",
         "8b4fa71a-fab8-11ef-8516-aa34fbca8d66"
        ],
        [
         "21",
         "4947.9766665197",
         "APPROVED",
         "8b4fa72e-fab8-11ef-8516-aa34fbca8d66"
        ],
        [
         "22",
         "1343.3567387725",
         "APPROVED",
         "8b4fa742-fab8-11ef-8516-aa34fbca8d66"
        ],
        [
         "23",
         "6020.9932636531",
         "APPROVED",
         "8b4fa760-fab8-11ef-8516-aa34fbca8d66"
        ],
        [
         "24",
         "7214.665565509",
         "APPROVED",
         "8b4fa774-fab8-11ef-8516-aa34fbca8d66"
        ],
        [
         "25",
         "13499.1807059904",
         "APPROVED",
         "8b4fa788-fab8-11ef-8516-aa34fbca8d66"
        ],
        [
         "26",
         "13420.5194151966",
         "APPROVED",
         "8b4fa79c-fab8-11ef-8516-aa34fbca8d66"
        ],
        [
         "27",
         "12036.1937032892",
         "APPROVED",
         "8b4fa7ba-fab8-11ef-8516-aa34fbca8d66"
        ],
        [
         "28",
         "3086.36593405",
         "APPROVED",
         "8b4fa7ce-fab8-11ef-8516-aa34fbca8d66"
        ],
        [
         "29",
         "5597.4363745682",
         "APPROVED",
         "8b4fa7e2-fab8-11ef-8516-aa34fbca8d66"
        ],
        [
         "30",
         "2414.3542088938",
         "APPROVED",
         "8b4fa7f6-fab8-11ef-8516-aa34fbca8d66"
        ],
        [
         "31",
         "1351.2955790702",
         "APPROVED",
         "8b4fa80a-fab8-11ef-8516-aa34fbca8d66"
        ],
        [
         "32",
         "3543.6221951488",
         "APPROVED",
         "8b4fa828-fab8-11ef-8516-aa34fbca8d66"
        ],
        [
         "33",
         "13415.1911633591",
         "APPROVED",
         "8b4fa83c-fab8-11ef-8516-aa34fbca8d66"
        ],
        [
         "34",
         "4407.6340661521",
         "APPROVED",
         "8b4fa850-fab8-11ef-8516-aa34fbca8d66"
        ],
        [
         "35",
         "1625.43375",
         "APPROVED",
         "8b4fa864-fab8-11ef-8516-aa34fbca8d66"
        ],
        [
         "36",
         "14298.2273927784",
         "APPROVED",
         "8b4fa882-fab8-11ef-8516-aa34fbca8d66"
        ],
        [
         "37",
         "3501.973785226",
         "APPROVED",
         "8b4fa896-fab8-11ef-8516-aa34fbca8d66"
        ],
        [
         "38",
         "6284.2811762955",
         "APPROVED",
         "8b4fa8aa-fab8-11ef-8516-aa34fbca8d66"
        ],
        [
         "39",
         "12598.9767981624",
         "APPROVED",
         "8b4fa8be-fab8-11ef-8516-aa34fbca8d66"
        ],
        [
         "40",
         "2959.7956148475",
         "APPROVED",
         "8b4fa8d2-fab8-11ef-8516-aa34fbca8d66"
        ],
        [
         "41",
         "5597.0998533995",
         "APPROVED",
         "8b4fa8f0-fab8-11ef-8516-aa34fbca8d66"
        ],
        [
         "42",
         "7908.2560870268",
         "APPROVED",
         "8b4fa904-fab8-11ef-8516-aa34fbca8d66"
        ],
        [
         "43",
         "7211.8357284087",
         "APPROVED",
         "8b4fa918-fab8-11ef-8516-aa34fbca8d66"
        ],
        [
         "44",
         "7088.2890009188",
         "APPROVED",
         "8b4fa92c-fab8-11ef-8516-aa34fbca8d66"
        ],
        [
         "45",
         "11260.9692873208",
         "APPROVED",
         "8b4fa940-fab8-11ef-8516-aa34fbca8d66"
        ],
        [
         "46",
         "2109.3115261852",
         "APPROVED",
         "8b4fa95e-fab8-11ef-8516-aa34fbca8d66"
        ],
        [
         "47",
         "4023.9912783168",
         "APPROVED",
         "8b4fa972-fab8-11ef-8516-aa34fbca8d66"
        ],
        [
         "48",
         "12614.6505265344",
         "APPROVED",
         "8b4fa986-fab8-11ef-8516-aa34fbca8d66"
        ],
        [
         "49",
         "6553.9120030871",
         "APPROVED",
         "8b4fa99a-fab8-11ef-8516-aa34fbca8d66"
        ]
       ],
       "shape": {
        "columns": 3,
        "rows": 1338
       }
      },
      "text/html": [
       "<div>\n",
       "<style scoped>\n",
       "    .dataframe tbody tr th:only-of-type {\n",
       "        vertical-align: middle;\n",
       "    }\n",
       "\n",
       "    .dataframe tbody tr th {\n",
       "        vertical-align: top;\n",
       "    }\n",
       "\n",
       "    .dataframe thead th {\n",
       "        text-align: right;\n",
       "    }\n",
       "</style>\n",
       "<table border=\"1\" class=\"dataframe\">\n",
       "  <thead>\n",
       "    <tr style=\"text-align: right;\">\n",
       "      <th></th>\n",
       "      <th>charges_PREDICTION</th>\n",
       "      <th>DEPLOYMENT_APPROVAL_STATUS</th>\n",
       "      <th>ASSOCIATION_ID</th>\n",
       "    </tr>\n",
       "  </thead>\n",
       "  <tbody>\n",
       "    <tr>\n",
       "      <th>0</th>\n",
       "      <td>1617.811036</td>\n",
       "      <td>APPROVED</td>\n",
       "      <td>8b4fa3f0-fab8-11ef-8516-aa34fbca8d66</td>\n",
       "    </tr>\n",
       "    <tr>\n",
       "      <th>1</th>\n",
       "      <td>1728.998258</td>\n",
       "      <td>APPROVED</td>\n",
       "      <td>8b4fa4cc-fab8-11ef-8516-aa34fbca8d66</td>\n",
       "    </tr>\n",
       "    <tr>\n",
       "      <th>2</th>\n",
       "      <td>5181.711251</td>\n",
       "      <td>APPROVED</td>\n",
       "      <td>8b4fa526-fab8-11ef-8516-aa34fbca8d66</td>\n",
       "    </tr>\n",
       "    <tr>\n",
       "      <th>3</th>\n",
       "      <td>5376.953586</td>\n",
       "      <td>APPROVED</td>\n",
       "      <td>8b4fa54e-fab8-11ef-8516-aa34fbca8d66</td>\n",
       "    </tr>\n",
       "    <tr>\n",
       "      <th>4</th>\n",
       "      <td>5102.524783</td>\n",
       "      <td>APPROVED</td>\n",
       "      <td>8b4fa562-fab8-11ef-8516-aa34fbca8d66</td>\n",
       "    </tr>\n",
       "    <tr>\n",
       "      <th>...</th>\n",
       "      <td>...</td>\n",
       "      <td>...</td>\n",
       "      <td>...</td>\n",
       "    </tr>\n",
       "    <tr>\n",
       "      <th>1333</th>\n",
       "      <td>11082.680481</td>\n",
       "      <td>APPROVED</td>\n",
       "      <td>8b5017a4-fab8-11ef-8516-aa34fbca8d66</td>\n",
       "    </tr>\n",
       "    <tr>\n",
       "      <th>1334</th>\n",
       "      <td>1345.579818</td>\n",
       "      <td>APPROVED</td>\n",
       "      <td>8b5017b8-fab8-11ef-8516-aa34fbca8d66</td>\n",
       "    </tr>\n",
       "    <tr>\n",
       "      <th>1335</th>\n",
       "      <td>1340.552396</td>\n",
       "      <td>APPROVED</td>\n",
       "      <td>8b5017cc-fab8-11ef-8516-aa34fbca8d66</td>\n",
       "    </tr>\n",
       "    <tr>\n",
       "      <th>1336</th>\n",
       "      <td>2156.216090</td>\n",
       "      <td>APPROVED</td>\n",
       "      <td>8b5017ea-fab8-11ef-8516-aa34fbca8d66</td>\n",
       "    </tr>\n",
       "    <tr>\n",
       "      <th>1337</th>\n",
       "      <td>12878.152589</td>\n",
       "      <td>APPROVED</td>\n",
       "      <td>8b5017fe-fab8-11ef-8516-aa34fbca8d66</td>\n",
       "    </tr>\n",
       "  </tbody>\n",
       "</table>\n",
       "<p>1338 rows × 3 columns</p>\n",
       "</div>"
      ],
      "text/plain": [
       "      charges_PREDICTION DEPLOYMENT_APPROVAL_STATUS  \\\n",
       "0            1617.811036                   APPROVED   \n",
       "1            1728.998258                   APPROVED   \n",
       "2            5181.711251                   APPROVED   \n",
       "3            5376.953586                   APPROVED   \n",
       "4            5102.524783                   APPROVED   \n",
       "...                  ...                        ...   \n",
       "1333        11082.680481                   APPROVED   \n",
       "1334         1345.579818                   APPROVED   \n",
       "1335         1340.552396                   APPROVED   \n",
       "1336         2156.216090                   APPROVED   \n",
       "1337        12878.152589                   APPROVED   \n",
       "\n",
       "                            ASSOCIATION_ID  \n",
       "0     8b4fa3f0-fab8-11ef-8516-aa34fbca8d66  \n",
       "1     8b4fa4cc-fab8-11ef-8516-aa34fbca8d66  \n",
       "2     8b4fa526-fab8-11ef-8516-aa34fbca8d66  \n",
       "3     8b4fa54e-fab8-11ef-8516-aa34fbca8d66  \n",
       "4     8b4fa562-fab8-11ef-8516-aa34fbca8d66  \n",
       "...                                    ...  \n",
       "1333  8b5017a4-fab8-11ef-8516-aa34fbca8d66  \n",
       "1334  8b5017b8-fab8-11ef-8516-aa34fbca8d66  \n",
       "1335  8b5017cc-fab8-11ef-8516-aa34fbca8d66  \n",
       "1336  8b5017ea-fab8-11ef-8516-aa34fbca8d66  \n",
       "1337  8b5017fe-fab8-11ef-8516-aa34fbca8d66  \n",
       "\n",
       "[1338 rows x 3 columns]"
      ]
     },
     "execution_count": 5,
     "metadata": {},
     "output_type": "execute_result"
    }
   ],
   "source": [
    "import pandas as pd \n",
    "from io import StringIO\n",
    "print(preds[0][\"tag\"])\n",
    "pd.read_csv( StringIO(preds[0][\"predictions\"]))"
   ]
  },
  {
   "cell_type": "markdown",
   "id": "b1854454",
   "metadata": {},
   "source": [
    "## Approach 2 \n",
    "\n",
    "Packing all submodels into Umbrella Model."
   ]
  },
  {
   "cell_type": "code",
   "execution_count": 6,
   "id": "4cd365f2",
   "metadata": {},
   "outputs": [
    {
     "name": "stdout",
     "output_type": "stream",
     "text": [
      "2025-03-06 13:26:54,958 score.py:91 INFO prediction request status code: 200\n",
      "2025-03-06 13:26:54,971 score.py:135 INFO ==============================\n",
      "2025-03-06 13:26:54,972 score.py:136 INFO number of seconds to complete scoring: 1.192187\n",
      "2025-03-06 13:26:54,972 score.py:137 INFO ==============================\n"
     ]
    },
    {
     "data": {
      "text/plain": [
       "True"
      ]
     },
     "execution_count": 6,
     "metadata": {},
     "output_type": "execute_result"
    }
   ],
   "source": [
    "df = get_data() \n",
    "df = preprocess(df)\n",
    "preds = score(df.drop([\"charges\"], axis=1), APPROACH_2_DEPLOYMENT_ID)\n",
    "preds = postprocess(preds)\n",
    "write_predictions(preds)"
   ]
  },
  {
   "cell_type": "code",
   "execution_count": 7,
   "id": "16dd317d",
   "metadata": {},
   "outputs": [
    {
     "data": {
      "application/vnd.microsoft.datawrangler.viewer.v0+json": {
       "columns": [
        {
         "name": "index",
         "rawType": "int64",
         "type": "integer"
        },
        {
         "name": "quantile-0.05",
         "rawType": "float64",
         "type": "float"
        }
       ],
       "conversionMethod": "pd.DataFrame",
       "ref": "0b9cb94a-8f20-4851-b8ab-8f49e61b3e09",
       "rows": [
        [
         "0",
         "376.7858713718624"
        ],
        [
         "1",
         "550.8272139645615"
        ],
        [
         "2",
         "4133.647008904771"
        ],
        [
         "3",
         "4063.1490624526486"
        ],
        [
         "4",
         "3745.8134692393387"
        ],
        [
         "5",
         "3515.1834521263336"
        ],
        [
         "6",
         "7829.913435571216"
        ],
        [
         "7",
         "6521.326922544173"
        ],
        [
         "8",
         "6013.33490854825"
        ],
        [
         "9",
         "11050.124823560092"
        ],
        [
         "10",
         "1951.5695619810012"
        ],
        [
         "11",
         "11565.6514717061"
        ],
        [
         "12",
         "1355.7134321661115"
        ],
        [
         "13",
         "9880.566001516863"
        ],
        [
         "14",
         "2323.1919474849583"
        ],
        [
         "15",
         "896.0407675021252"
        ],
        [
         "16",
         "9413.819129892465"
        ],
        [
         "17",
         "1453.9611354123508"
        ],
        [
         "18",
         "9876.09808133134"
        ],
        [
         "19",
         "3166.339713438033"
        ],
        [
         "20",
         "10955.50730546459"
        ],
        [
         "21",
         "3681.8713427470266"
        ],
        [
         "22",
         "59.21757398222326"
        ],
        [
         "23",
         "4725.769909572422"
        ],
        [
         "24",
         "6030.136150079226"
        ],
        [
         "25",
         "12238.381642404534"
        ],
        [
         "26",
         "11855.341808771487"
        ],
        [
         "27",
         "10663.360266456082"
        ],
        [
         "28",
         "2002.6298394306386"
        ],
        [
         "29",
         "4393.965097754413"
        ],
        [
         "30",
         "1084.6859700423365"
        ],
        [
         "31",
         "131.6816544911735"
        ],
        [
         "32",
         "2812.9598787086024"
        ],
        [
         "33",
         "11806.70663591866"
        ],
        [
         "34",
         "3124.9233512143983"
        ],
        [
         "35",
         "446.36442009432903"
        ],
        [
         "36",
         "12969.13329119055"
        ],
        [
         "37",
         "2261.8774890691666"
        ],
        [
         "38",
         "4941.413777729818"
        ],
        [
         "39",
         "10919.251994792483"
        ],
        [
         "40",
         "1688.174796840828"
        ],
        [
         "41",
         "4390.893402626865"
        ],
        [
         "42",
         "6639.158355111371"
        ],
        [
         "43",
         "6004.305986506672"
        ],
        [
         "44",
         "5717.449659229518"
        ],
        [
         "45",
         "9644.16492083089"
        ],
        [
         "46",
         "993.8016810940735"
        ],
        [
         "47",
         "2651.5577186562787"
        ],
        [
         "48",
         "11062.318522399748"
        ],
        [
         "49",
         "5214.954444957952"
        ]
       ],
       "shape": {
        "columns": 1,
        "rows": 1338
       }
      },
      "text/html": [
       "<div>\n",
       "<style scoped>\n",
       "    .dataframe tbody tr th:only-of-type {\n",
       "        vertical-align: middle;\n",
       "    }\n",
       "\n",
       "    .dataframe tbody tr th {\n",
       "        vertical-align: top;\n",
       "    }\n",
       "\n",
       "    .dataframe thead th {\n",
       "        text-align: right;\n",
       "    }\n",
       "</style>\n",
       "<table border=\"1\" class=\"dataframe\">\n",
       "  <thead>\n",
       "    <tr style=\"text-align: right;\">\n",
       "      <th></th>\n",
       "      <th>quantile-0.05</th>\n",
       "    </tr>\n",
       "  </thead>\n",
       "  <tbody>\n",
       "    <tr>\n",
       "      <th>0</th>\n",
       "      <td>376.785871</td>\n",
       "    </tr>\n",
       "    <tr>\n",
       "      <th>1</th>\n",
       "      <td>550.827214</td>\n",
       "    </tr>\n",
       "    <tr>\n",
       "      <th>2</th>\n",
       "      <td>4133.647009</td>\n",
       "    </tr>\n",
       "    <tr>\n",
       "      <th>3</th>\n",
       "      <td>4063.149062</td>\n",
       "    </tr>\n",
       "    <tr>\n",
       "      <th>4</th>\n",
       "      <td>3745.813469</td>\n",
       "    </tr>\n",
       "    <tr>\n",
       "      <th>...</th>\n",
       "      <td>...</td>\n",
       "    </tr>\n",
       "    <tr>\n",
       "      <th>1333</th>\n",
       "      <td>9869.411145</td>\n",
       "    </tr>\n",
       "    <tr>\n",
       "      <th>1334</th>\n",
       "      <td>79.509378</td>\n",
       "    </tr>\n",
       "    <tr>\n",
       "      <th>1335</th>\n",
       "      <td>33.620115</td>\n",
       "    </tr>\n",
       "    <tr>\n",
       "      <th>1336</th>\n",
       "      <td>916.048346</td>\n",
       "    </tr>\n",
       "    <tr>\n",
       "      <th>1337</th>\n",
       "      <td>11279.917106</td>\n",
       "    </tr>\n",
       "  </tbody>\n",
       "</table>\n",
       "<p>1338 rows × 1 columns</p>\n",
       "</div>"
      ],
      "text/plain": [
       "      quantile-0.05\n",
       "0        376.785871\n",
       "1        550.827214\n",
       "2       4133.647009\n",
       "3       4063.149062\n",
       "4       3745.813469\n",
       "...             ...\n",
       "1333    9869.411145\n",
       "1334      79.509378\n",
       "1335      33.620115\n",
       "1336     916.048346\n",
       "1337   11279.917106\n",
       "\n",
       "[1338 rows x 1 columns]"
      ]
     },
     "execution_count": 7,
     "metadata": {},
     "output_type": "execute_result"
    }
   ],
   "source": [
    "pd.DataFrame(preds[\"quantile-0.05\"], columns = [\"quantile-0.05\"])"
   ]
  },
  {
   "cell_type": "code",
   "execution_count": null,
   "id": "954cb346",
   "metadata": {},
   "outputs": [],
   "source": []
  }
 ],
 "metadata": {
  "kernelspec": {
   "display_name": "sec-bene",
   "language": "python",
   "name": "python3"
  },
  "language_info": {
   "codemirror_mode": {
    "name": "ipython",
    "version": 3
   },
   "file_extension": ".py",
   "mimetype": "text/x-python",
   "name": "python",
   "nbconvert_exporter": "python",
   "pygments_lexer": "ipython3",
   "version": "3.11.8"
  }
 },
 "nbformat": 4,
 "nbformat_minor": 5
}
